{
 "cells": [
  {
   "cell_type": "markdown",
   "id": "bd312810-0e1a-4ba7-a84e-265d8184e436",
   "metadata": {
    "tags": []
   },
   "source": [
    "# Data Science Tools and Ecosystem"
   ]
  },
  {
   "cell_type": "markdown",
   "id": "e63c4fa0-47a9-445d-8382-78a933daeeea",
   "metadata": {},
   "source": [
    "# In this notebook, Data Science Tools and Ecosystem are summarized."
   ]
  },
  {
   "cell_type": "markdown",
   "id": "ca23b2c6-a111-49f2-8d1a-2324f7250d92",
   "metadata": {
    "tags": []
   },
   "source": [
    "**Objectives:**\n",
    "- List popular languages for Data Science.\n",
    "- List some of the commonly used libraries used by Data Scientists.\n",
    "- List Data Science Tools.\n",
    "- Evaluating arithmetic expressions."
   ]
  },
  {
   "cell_type": "markdown",
   "id": "2045cf17-5ab6-497b-9426-0cec4fa6d056",
   "metadata": {
    "tags": []
   },
   "source": [
    "# Some of the popular languages that Data Scientists use are:\n",
    "1. Python\n",
    "2. R\n",
    "3. Java"
   ]
  },
  {
   "cell_type": "markdown",
   "id": "5c8b5094-ce65-44ea-aa5d-a7437c197735",
   "metadata": {
    "tags": []
   },
   "source": [
    "# Some of the commonly used libraries used by Data Scientists include:\n",
    "1. Scientific Computing Libraries in Python \n",
    "2. Visualization Libraries in Python \n",
    "3. High-Level- Machine Learning and Deep Learning Libraries\n",
    "4. Deep Learning Libraries in Python\n",
    "5. Libraries used in other languages "
   ]
  },
  {
   "cell_type": "markdown",
   "id": "5dfbf63f-a056-43e0-b992-46a13190a9a3",
   "metadata": {},
   "source": [
    "### Data Science Tools\n",
    "|Data Science Tools|\n",
    "|------------------|\n",
    "| MySQL|\n",
    "| PostgreSQL|\n",
    "| MongoDB|"
   ]
  },
  {
   "cell_type": "markdown",
   "id": "ea2e8db4-0272-4866-96aa-72cf522b5d84",
   "metadata": {},
   "source": [
    "### Below are a few examples of evaluating arithmetic expressions in Python"
   ]
  },
  {
   "cell_type": "markdown",
   "id": "36ada177-8213-4ca1-bd71-60459841ce3c",
   "metadata": {
    "tags": []
   },
   "source": [
    "# This a simple arithmetic expression to mutiply then add integers.\n",
    "(3*4)+5"
   ]
  },
  {
   "cell_type": "markdown",
   "id": "fb6daab8-c60d-4d43-b146-da912c572446",
   "metadata": {
    "tags": []
   },
   "source": [
    "# This will convert 200 minutes to hours by diving by 60.\n",
    "200/60"
   ]
  },
  {
   "cell_type": "markdown",
   "id": "f38c6289-0ee2-4a48-8256-134e8b8dcdea",
   "metadata": {},
   "source": [
    "## Author\n",
    "He Zhuosheng"
   ]
  }
 ],
 "metadata": {
  "kernelspec": {
   "display_name": "Python",
   "language": "python",
   "name": "conda-env-python-py"
  },
  "language_info": {
   "codemirror_mode": {
    "name": "ipython",
    "version": 3
   },
   "file_extension": ".py",
   "mimetype": "text/x-python",
   "name": "python",
   "nbconvert_exporter": "python",
   "pygments_lexer": "ipython3",
   "version": "3.7.12"
  }
 },
 "nbformat": 4,
 "nbformat_minor": 5
}
